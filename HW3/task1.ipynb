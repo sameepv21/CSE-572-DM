{
 "cells": [
  {
   "cell_type": "code",
   "execution_count": 1,
   "metadata": {},
   "outputs": [],
   "source": [
    "import numpy as np\n",
    "import pandas as pd\n",
    "import warnings\n",
    "import time\n",
    "warnings.filterwarnings(\"ignore\")"
   ]
  },
  {
   "cell_type": "code",
   "execution_count": 2,
   "metadata": {},
   "outputs": [
    {
     "data": {
      "text/plain": [
       "(10000, 784)"
      ]
     },
     "execution_count": 2,
     "metadata": {},
     "output_type": "execute_result"
    }
   ],
   "source": [
    "# Read data and labels\n",
    "data = pd.read_csv(\"../data/kmeans_data/data.csv\", header = None)\n",
    "labels = pd.read_csv('../data/kmeans_data/label.csv', header = None)\n",
    "\n",
    "data.shape"
   ]
  },
  {
   "cell_type": "code",
   "execution_count": 12,
   "metadata": {},
   "outputs": [],
   "source": [
    "# Define class to implement kmeans\n",
    "class KMeans():\n",
    "    def __init__(self, k, distance, max_iter, evaluation_criteria, majority_voting = False):\n",
    "        # Store in the class\n",
    "        self.k = k\n",
    "        self.max_iter = max_iter\n",
    "        self.distance = distance\n",
    "        self.evaluation_criteria = evaluation_criteria\n",
    "        self.majority_voting = majority_voting\n",
    "\n",
    "        # Decide which distance to use\n",
    "        if distance == \"euclidean\":\n",
    "            self.distance_function = self.__euclidean\n",
    "        elif distance == 'cosine':\n",
    "            self.distance_function = self.__cosine\n",
    "        else:\n",
    "            self.distance_function = self.__jaccard\n",
    "\n",
    "    # Compute euclidean function\n",
    "    def __euclidean(self, x, centroids):\n",
    "        euclid = []\n",
    "        for center in centroids:\n",
    "            euclid.append(np.sqrt(np.sum((x - center)**2)))\n",
    "        return euclid\n",
    "\n",
    "    # Compute cosine function\n",
    "    def __cosine(self, x, centroids):\n",
    "        cosine = []\n",
    "        for center in centroids:\n",
    "            cosine.append(np.dot(x.T, center) / (np.linalg.norm(x) * np.linalg.norm(center)))\n",
    "        return cosine\n",
    "\n",
    "    # Compute jaccard function\n",
    "    def __jaccard(self, x, centroids):\n",
    "        jaccard = []\n",
    "\n",
    "        for center in centroids:\n",
    "            numerator = np.sum(np.minimum(x, center))\n",
    "            denominator = np.sum(np.maximum(x, center))\n",
    "            temp_jaccard = 1 - (numerator / denominator)\n",
    "            jaccard.append(temp_jaccard)\n",
    "        \n",
    "        return jaccard\n",
    "    \n",
    "    # Compute Sum Of Squared Error\n",
    "    def __sumOfSquares(self, x, center):\n",
    "        sse = 0\n",
    "        for i in range(len(center)):\n",
    "            sse += (center[i] - x[i])**2\n",
    "        return sse\n",
    "\n",
    "    # Compute Accuracy\n",
    "    def __accuracy(self, X_train, labels):\n",
    "        correct = 0\n",
    "        if not self.majority_voting:\n",
    "            for index, row in enumerate(X_train.iterrows()):\n",
    "                flag = True\n",
    "                for cluster_row in self.clusters[labels.iloc[index].values[0]]:\n",
    "                    if np.not_equal(cluster_row, row[1]).any():\n",
    "                        flag = False\n",
    "                        break\n",
    "                    if flag:\n",
    "                        correct += 1\n",
    "        else:\n",
    "            for index, row in enumerate(X_train.iterrows()):\n",
    "                cluster_label = labels.iloc[index].values[0]\n",
    "                cluster_rows = self.clusters[cluster_label]\n",
    "\n",
    "                # Use majority voting to determine the predicted label\n",
    "                predicted_label = max(set(cluster_rows), key=cluster_rows.count)\n",
    "\n",
    "                # Check if the predicted label matches the actual label\n",
    "                if np.array_equal(predicted_label, row[1]):\n",
    "                    correct += 1\n",
    "        return 100 * (correct / X_train.shape[0])\n",
    "\n",
    "    # Fit the model and find the centroids\n",
    "    def fit(self, X_train, labels):\n",
    "        # Initially, randomly select k datapoints as centrod.\n",
    "        self.centroids = []\n",
    "\n",
    "        # For jaccard, we need entire row instead of just one element\n",
    "        for _ in range(self.k):\n",
    "            self.centroids.append(np.array(X_train.sample()))\n",
    "        \n",
    "        # Reshape\n",
    "        self.centroids = np.array(self.centroids).reshape(self.k, -1)\n",
    "        # print(\"Centroids array:\", np.array(centroids).shape)\n",
    "\n",
    "        # Initialize few required variables\n",
    "        iterations = 0\n",
    "        prev_centroids = None\n",
    "        prev_sse = float('inf')\n",
    "        current_sse = 0\n",
    "\n",
    "        # Iteratively update the centroids\n",
    "        # Start the timer\n",
    "        start = time.time()\n",
    "        while True:\n",
    "            print(\"Iteration Number: \", iterations + 1)\n",
    "\n",
    "            # Iterate over all rows\n",
    "            self.clusters = [[] for _ in range(self.k)]\n",
    "            for row in X_train.iterrows():\n",
    "                distance = self.distance_function(np.array(row[1]), np.array(self.centroids))\n",
    "                cluster_number = np.argmin(distance)\n",
    "                self.clusters[cluster_number].append(row[1])\n",
    "            \n",
    "            # Update the new centroid\n",
    "            self.centroids = []\n",
    "            for cluster in self.clusters:\n",
    "                cluster = np.array(cluster)\n",
    "                if len(cluster) == 0:\n",
    "                    self.centroids.append(np.zeros(784))\n",
    "                else:\n",
    "                    self.centroids.append(np.mean(cluster, axis = 0))\n",
    "\n",
    "            # Compute current sse\n",
    "            current_sse = self.evaluate(X_train, labels) / 10000\n",
    "\n",
    "            if prev_sse <= current_sse:\n",
    "                print(\"Exiting due to increament in sse\")\n",
    "                print(\"Number of Iterations:\", iterations + 1)\n",
    "                print(\"SSE:\", current_sse / 10000)\n",
    "                end = time.time()\n",
    "                time_taken = end - start\n",
    "                print('Time Taken (in seconds):', time_taken)\n",
    "                break\n",
    "            \n",
    "            # if prev_centroids != None:\n",
    "            #     if np.equal(self.centroids, prev_centroids).any():\n",
    "            #         print(\"Exiting due to constant centroid\")\n",
    "            #         print('Number of Iterations:', iterations + 1)\n",
    "            #         end = time.time()\n",
    "            #         time_taken = end - start\n",
    "            #         print('Time Taken (in seconds):', time_taken)\n",
    "            #         print(\"SSE:\", current_sse / 10000)\n",
    "            #         break\n",
    "            \n",
    "            if iterations >= self.max_iter:\n",
    "                print(\"Exiting due to maximum iterations\")\n",
    "                print(\"Number of iterations:\", iterations + 1)\n",
    "                end = time.time()\n",
    "                time_taken = end - start\n",
    "                print('Time Taken (in seconds):', time_taken)\n",
    "                print(\"SSE:\", current_sse / 10000)\n",
    "                break\n",
    "\n",
    "            # Save the previous centroids so that current ones can be overwritten\n",
    "            prev_centroids = self.centroids\n",
    "            prev_sse = current_sse\n",
    "\n",
    "            # Increment the number of iterations\n",
    "            iterations += 1\n",
    "\n",
    "    # Evaluate the generated centroids\n",
    "    def evaluate(self, X_train, labels):\n",
    "        if self.evaluation_criteria == 'sse':\n",
    "            sse = 0\n",
    "            for index, cluster in enumerate(self.clusters):\n",
    "                for row in cluster:\n",
    "                    sse += self.__sumOfSquares(row, self.centroids[index])\n",
    "            return sse\n",
    "        else:\n",
    "            return self.__accuracy(X_train, labels)"
   ]
  },
  {
   "cell_type": "code",
   "execution_count": 8,
   "metadata": {},
   "outputs": [
    {
     "name": "stdout",
     "output_type": "stream",
     "text": [
      "Iteration Number:  1\n",
      "Iteration Number:  2\n",
      "Exiting due to increament in sse\n",
      "Number of Iterations: 2\n",
      "SSE: 3436457.369859137\n",
      "Time Taken (in seconds): 37.748679637908936\n",
      "Normalized Sum of Squares for Euclidean Distance: 3436457.369859137\n"
     ]
    }
   ],
   "source": [
    "# Cosine Similarity, with evaluation_criteria = 'sse'\n",
    "kmeans_cosine = KMeans(k = 10, distance = 'cosine', max_iter = 10, evaluation_criteria = 'sse')\n",
    "\n",
    "# Fit model\n",
    "kmeans_cosine.fit(data, labels)\n",
    "\n",
    "# Compute sse\n",
    "sse_cosine = kmeans_cosine.evaluate(data, labels)\n",
    "\n",
    "# Display results\n",
    "print(\"Normalized Sum of Squares for Cosine Distance:\", sse_cosine / data.shape[0])"
   ]
  },
  {
   "cell_type": "code",
   "execution_count": 9,
   "metadata": {},
   "outputs": [
    {
     "name": "stdout",
     "output_type": "stream",
     "text": [
      "Iteration Number:  1\n",
      "Iteration Number:  2\n",
      "Iteration Number:  3\n",
      "Iteration Number:  4\n",
      "Iteration Number:  5\n",
      "Iteration Number:  6\n",
      "Iteration Number:  7\n",
      "Iteration Number:  8\n",
      "Iteration Number:  9\n",
      "Iteration Number:  10\n",
      "Iteration Number:  11\n",
      "Exiting due to maximum iterations\n",
      "Number of iterations: 11\n",
      "Time Taken (in seconds): 235.20397305488586\n",
      "SSE: 2585156.0965118036\n",
      "Normalized Sum of Squares for Jaccard Distance: 2585156.0965118036\n"
     ]
    }
   ],
   "source": [
    "# Jaccard distance, with evaluation_criteria as \"sse\"\n",
    "kmeans_jaccard = KMeans(k = 10, distance = 'jaccard', max_iter = 10, evaluation_criteria = 'sse')\n",
    "\n",
    "# Fit model\n",
    "kmeans_jaccard.fit(data, labels)\n",
    "\n",
    "# Compute sse\n",
    "sse_jaccard = kmeans_jaccard.evaluate(data, labels)\n",
    "\n",
    "# Display results\n",
    "print(\"Normalized Sum of Squares for Jaccard Distance:\", sse_jaccard / data.shape[0])"
   ]
  },
  {
   "cell_type": "code",
   "execution_count": 10,
   "metadata": {},
   "outputs": [
    {
     "name": "stdout",
     "output_type": "stream",
     "text": [
      "Iteration Number:  1\n",
      "Iteration Number:  2\n",
      "Iteration Number:  3\n",
      "Iteration Number:  4\n",
      "Iteration Number:  5\n",
      "Iteration Number:  6\n",
      "Iteration Number:  7\n",
      "Iteration Number:  8\n",
      "Iteration Number:  9\n",
      "Iteration Number:  10\n",
      "Iteration Number:  11\n",
      "Exiting due to maximum iterations\n",
      "Number of iterations: 11\n",
      "Time Taken (in seconds): 223.31162881851196\n",
      "SSE: 2546327.4311793186\n",
      "Normalized Sum of Squares for Euclidean Distance: 2546327.4311793186\n"
     ]
    }
   ],
   "source": [
    "# Euclidean distance, with evaluation_criteria as \"sse\"\n",
    "kmeans_euclid = KMeans(k = 10, distance = 'euclidean', max_iter = 10, evaluation_criteria = 'sse')\n",
    "\n",
    "# Fit model\n",
    "kmeans_euclid.fit(data, labels)\n",
    "\n",
    "# Compute sse\n",
    "sse_euclid = kmeans_euclid.evaluate(data, labels)\n",
    "\n",
    "# Display results\n",
    "print(\"Normalized Sum of Squares for Euclidean Distance:\", sse_euclid / data.shape[0])"
   ]
  },
  {
   "cell_type": "code",
   "execution_count": null,
   "metadata": {},
   "outputs": [],
   "source": [
    "# Euclidean Distance, with evaluation_criteria = 'accuracy'\n",
    "kmeans_euclid_acc = KMeans(k = 10, distance = 'euclidean', max_iter = 10, evaluation_criteria = 'accuracy')\n",
    "\n",
    "# Fit Model\n",
    "kmeans_euclid_acc.fit(data)\n",
    "\n",
    "# Compute accuracy\n",
    "accuracy = kmeans_euclid_acc.evaluate(data, labels)\n",
    "\n",
    "# Display results\n",
    "print('Accuracy for Euclidean Distance:', accuracy)"
   ]
  },
  {
   "cell_type": "code",
   "execution_count": null,
   "metadata": {},
   "outputs": [],
   "source": [
    "# Cosine Distance, with evaluation_criteria = 'accuracy'\n",
    "kmeans_cosine_acc = KMeans(k = 10, distance = 'cosine', max_iter = 10, evaluation_criteria = 'accuracy')\n",
    "\n",
    "# Fit Model\n",
    "kmeans_cosine_acc.fit(data)\n",
    "\n",
    "# Compute accuracy\n",
    "accuracy = kmeans_cosine_acc.evaluate(data, labels)\n",
    "\n",
    "# Display results\n",
    "print('Accuracy for Cosine Similarity:', accuracy)"
   ]
  },
  {
   "cell_type": "code",
   "execution_count": null,
   "metadata": {},
   "outputs": [],
   "source": [
    "# Jaccard Distance, with evaluation_criteria = 'accuracy'\n",
    "kmeans_jaccard_acc = KMeans(k = 10, distance = 'jaccard', max_iter = 10, evaluation_criteria = 'accuracy')\n",
    "\n",
    "# Fit Model\n",
    "kmeans_jaccard_acc.fit(data)\n",
    "\n",
    "# Compute accuracy\n",
    "accuracy = kmeans_jaccard_acc.evaluate(data, labels)\n",
    "\n",
    "# Display results\n",
    "print('Accuracy for Jaccard Similarity:', accuracy)"
   ]
  },
  {
   "cell_type": "code",
   "execution_count": 15,
   "metadata": {},
   "outputs": [
    {
     "name": "stdout",
     "output_type": "stream",
     "text": [
      "Iteration Number:  1\n"
     ]
    },
    {
     "ename": "TypeError",
     "evalue": "unhashable type: 'Series'",
     "output_type": "error",
     "traceback": [
      "\u001b[0;31m---------------------------------------------------------------------------\u001b[0m",
      "\u001b[0;31mTypeError\u001b[0m                                 Traceback (most recent call last)",
      "\u001b[1;32m/home/sameep/Extra_Projects/DM/HW3/task1.ipynb Cell 10\u001b[0m line \u001b[0;36m4\n\u001b[1;32m      <a href='vscode-notebook-cell:/home/sameep/Extra_Projects/DM/HW3/task1.ipynb#X15sZmlsZQ%3D%3D?line=0'>1</a>\u001b[0m kmeans_cosine_acc_m \u001b[39m=\u001b[39m KMeans(k \u001b[39m=\u001b[39m \u001b[39m10\u001b[39m, distance \u001b[39m=\u001b[39m \u001b[39m'\u001b[39m\u001b[39mcosine\u001b[39m\u001b[39m'\u001b[39m, max_iter \u001b[39m=\u001b[39m \u001b[39m10\u001b[39m, evaluation_criteria \u001b[39m=\u001b[39m \u001b[39m'\u001b[39m\u001b[39maccuracy\u001b[39m\u001b[39m'\u001b[39m, majority_voting \u001b[39m=\u001b[39m \u001b[39mTrue\u001b[39;00m)\n\u001b[1;32m      <a href='vscode-notebook-cell:/home/sameep/Extra_Projects/DM/HW3/task1.ipynb#X15sZmlsZQ%3D%3D?line=2'>3</a>\u001b[0m \u001b[39m# Fit Model\u001b[39;00m\n\u001b[0;32m----> <a href='vscode-notebook-cell:/home/sameep/Extra_Projects/DM/HW3/task1.ipynb#X15sZmlsZQ%3D%3D?line=3'>4</a>\u001b[0m kmeans_cosine_acc_m\u001b[39m.\u001b[39;49mfit(data, labels)\n\u001b[1;32m      <a href='vscode-notebook-cell:/home/sameep/Extra_Projects/DM/HW3/task1.ipynb#X15sZmlsZQ%3D%3D?line=5'>6</a>\u001b[0m \u001b[39m# Compute accuracy\u001b[39;00m\n\u001b[1;32m      <a href='vscode-notebook-cell:/home/sameep/Extra_Projects/DM/HW3/task1.ipynb#X15sZmlsZQ%3D%3D?line=6'>7</a>\u001b[0m accuracy \u001b[39m=\u001b[39m kmeans_cosine_acc_m\u001b[39m.\u001b[39mevaluate(data, labels)\n",
      "\u001b[1;32m/home/sameep/Extra_Projects/DM/HW3/task1.ipynb Cell 10\u001b[0m line \u001b[0;36m1\n\u001b[1;32m    <a href='vscode-notebook-cell:/home/sameep/Extra_Projects/DM/HW3/task1.ipynb#X15sZmlsZQ%3D%3D?line=115'>116</a>\u001b[0m         \u001b[39mself\u001b[39m\u001b[39m.\u001b[39mcentroids\u001b[39m.\u001b[39mappend(np\u001b[39m.\u001b[39mmean(cluster, axis \u001b[39m=\u001b[39m \u001b[39m0\u001b[39m))\n\u001b[1;32m    <a href='vscode-notebook-cell:/home/sameep/Extra_Projects/DM/HW3/task1.ipynb#X15sZmlsZQ%3D%3D?line=117'>118</a>\u001b[0m \u001b[39m# Compute current sse\u001b[39;00m\n\u001b[0;32m--> <a href='vscode-notebook-cell:/home/sameep/Extra_Projects/DM/HW3/task1.ipynb#X15sZmlsZQ%3D%3D?line=118'>119</a>\u001b[0m current_sse \u001b[39m=\u001b[39m \u001b[39mself\u001b[39;49m\u001b[39m.\u001b[39;49mevaluate(X_train, labels) \u001b[39m/\u001b[39m \u001b[39m10000\u001b[39m\n\u001b[1;32m    <a href='vscode-notebook-cell:/home/sameep/Extra_Projects/DM/HW3/task1.ipynb#X15sZmlsZQ%3D%3D?line=120'>121</a>\u001b[0m \u001b[39mif\u001b[39;00m prev_sse \u001b[39m<\u001b[39m\u001b[39m=\u001b[39m current_sse:\n\u001b[1;32m    <a href='vscode-notebook-cell:/home/sameep/Extra_Projects/DM/HW3/task1.ipynb#X15sZmlsZQ%3D%3D?line=121'>122</a>\u001b[0m     \u001b[39mprint\u001b[39m(\u001b[39m\"\u001b[39m\u001b[39mExiting due to increament in sse\u001b[39m\u001b[39m\"\u001b[39m)\n",
      "\u001b[1;32m/home/sameep/Extra_Projects/DM/HW3/task1.ipynb Cell 10\u001b[0m line \u001b[0;36m1\n\u001b[1;32m    <a href='vscode-notebook-cell:/home/sameep/Extra_Projects/DM/HW3/task1.ipynb#X15sZmlsZQ%3D%3D?line=162'>163</a>\u001b[0m     \u001b[39mreturn\u001b[39;00m sse\n\u001b[1;32m    <a href='vscode-notebook-cell:/home/sameep/Extra_Projects/DM/HW3/task1.ipynb#X15sZmlsZQ%3D%3D?line=163'>164</a>\u001b[0m \u001b[39melse\u001b[39;00m:\n\u001b[0;32m--> <a href='vscode-notebook-cell:/home/sameep/Extra_Projects/DM/HW3/task1.ipynb#X15sZmlsZQ%3D%3D?line=164'>165</a>\u001b[0m     \u001b[39mreturn\u001b[39;00m \u001b[39mself\u001b[39;49m\u001b[39m.\u001b[39;49m__accuracy(X_train, labels)\n",
      "\u001b[1;32m/home/sameep/Extra_Projects/DM/HW3/task1.ipynb Cell 10\u001b[0m line \u001b[0;36m7\n\u001b[1;32m     <a href='vscode-notebook-cell:/home/sameep/Extra_Projects/DM/HW3/task1.ipynb#X15sZmlsZQ%3D%3D?line=66'>67</a>\u001b[0m cluster_rows \u001b[39m=\u001b[39m \u001b[39mself\u001b[39m\u001b[39m.\u001b[39mclusters[cluster_label]\n\u001b[1;32m     <a href='vscode-notebook-cell:/home/sameep/Extra_Projects/DM/HW3/task1.ipynb#X15sZmlsZQ%3D%3D?line=68'>69</a>\u001b[0m \u001b[39m# Use majority voting to determine the predicted label\u001b[39;00m\n\u001b[0;32m---> <a href='vscode-notebook-cell:/home/sameep/Extra_Projects/DM/HW3/task1.ipynb#X15sZmlsZQ%3D%3D?line=69'>70</a>\u001b[0m predicted_label \u001b[39m=\u001b[39m \u001b[39mmax\u001b[39m(\u001b[39mset\u001b[39;49m(cluster_rows), key\u001b[39m=\u001b[39mcluster_rows\u001b[39m.\u001b[39mcount)\n\u001b[1;32m     <a href='vscode-notebook-cell:/home/sameep/Extra_Projects/DM/HW3/task1.ipynb#X15sZmlsZQ%3D%3D?line=71'>72</a>\u001b[0m \u001b[39m# Check if the predicted label matches the actual label\u001b[39;00m\n\u001b[1;32m     <a href='vscode-notebook-cell:/home/sameep/Extra_Projects/DM/HW3/task1.ipynb#X15sZmlsZQ%3D%3D?line=72'>73</a>\u001b[0m \u001b[39mif\u001b[39;00m np\u001b[39m.\u001b[39marray_equal(predicted_label, row[\u001b[39m1\u001b[39m]):\n",
      "\u001b[0;31mTypeError\u001b[0m: unhashable type: 'Series'"
     ]
    }
   ],
   "source": [
    "kmeans_cosine_acc_m = KMeans(k = 10, distance = 'cosine', max_iter = 10, evaluation_criteria = 'accuracy', majority_voting = True)\n",
    "\n",
    "# Fit Model\n",
    "kmeans_cosine_acc_m.fit(data, labels)\n",
    "\n",
    "# Compute accuracy\n",
    "accuracy = kmeans_cosine_acc_m.evaluate(data, labels)\n",
    "\n",
    "# Display results\n",
    "print('Accuracy for Jaccard Similarity:', accuracy)"
   ]
  }
 ],
 "metadata": {
  "kernelspec": {
   "display_name": "venv",
   "language": "python",
   "name": "python3"
  },
  "language_info": {
   "codemirror_mode": {
    "name": "ipython",
    "version": 3
   },
   "file_extension": ".py",
   "mimetype": "text/x-python",
   "name": "python",
   "nbconvert_exporter": "python",
   "pygments_lexer": "ipython3",
   "version": "3.8.10"
  }
 },
 "nbformat": 4,
 "nbformat_minor": 2
}
