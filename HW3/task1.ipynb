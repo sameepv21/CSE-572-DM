{
 "cells": [
  {
   "cell_type": "code",
   "execution_count": 1,
   "metadata": {},
   "outputs": [],
   "source": [
    "import numpy as np\n",
    "import pandas as pd\n",
    "import warnings\n",
    "warnings.filterwarnings(\"ignore\")"
   ]
  },
  {
   "cell_type": "code",
   "execution_count": 2,
   "metadata": {},
   "outputs": [
    {
     "data": {
      "text/plain": [
       "(10000, 784)"
      ]
     },
     "execution_count": 2,
     "metadata": {},
     "output_type": "execute_result"
    }
   ],
   "source": [
    "# Read data and labels\n",
    "data = pd.read_csv(\"../data/kmeans_data/data.csv\", header = None)\n",
    "labels = pd.read_csv('../data/kmeans_data/label.csv', header = None)\n",
    "\n",
    "data.shape"
   ]
  },
  {
   "cell_type": "code",
   "execution_count": 18,
   "metadata": {},
   "outputs": [],
   "source": [
    "# Define class to implement kmeans\n",
    "class KMeans():\n",
    "    def __init__(self, k, distance, max_iter, evaluation_criteria):\n",
    "        # Store in the class\n",
    "        self.k = k\n",
    "        self.max_iter = max_iter\n",
    "        self.distance = distance\n",
    "        self.evaluation_criteria = evaluation_criteria\n",
    "\n",
    "        # Decide which distance to use\n",
    "        if distance == \"euclidean\":\n",
    "            self.distance_function = self.__euclidean\n",
    "        elif distance == 'cosine':\n",
    "            self.distance_function = self.__cosine\n",
    "        else:\n",
    "            self.distance_function = self.__jaccard\n",
    "\n",
    "    # Compute euclidean function\n",
    "    def __euclidean(self, x, centroids):\n",
    "        euclid = []\n",
    "        for center in centroids:\n",
    "            euclid.append(np.sqrt(np.sum((x - center)**2)))\n",
    "        return euclid\n",
    "\n",
    "    # Compute cosine function\n",
    "    def __cosine(self, x, centroids):\n",
    "        cosine = []\n",
    "        for center in centroids:\n",
    "            cosine.append(np.dot(x.T, center) / (np.linalg.norm(x) * np.linalg.norm(center)))\n",
    "        return cosine\n",
    "\n",
    "    # Compute jaccard function\n",
    "    def __jaccard(self, x, centroids):\n",
    "        jaccard = []\n",
    "\n",
    "        for center in centroids:\n",
    "            numerator = np.sum(np.minimum(x, center))\n",
    "            denominator = np.sum(np.maximum(x, center))\n",
    "            temp_jaccard = 1 - (numerator / denominator)\n",
    "            jaccard.append(temp_jaccard)\n",
    "        \n",
    "        return jaccard\n",
    "    \n",
    "    # Compute Sum Of Squared Error\n",
    "    def __sumOfSquares(self, x, center):\n",
    "        sse = 0\n",
    "        for i in range(len(center)):\n",
    "            sse += (center[i] - x[i])**2\n",
    "        return sse\n",
    "\n",
    "    # Compute Accuracy\n",
    "    def __accuracy(self, X_train, labels):\n",
    "        correct = 0\n",
    "        for index, row in enumerate(X_train.iterrows()):\n",
    "            pass\n",
    "        return 100 * correct / X_train.shape[0]\n",
    "\n",
    "    # Fit the model and find the centroids\n",
    "    def fit(self, X_train):\n",
    "        # Initially, randomly select k datapoints as centrod.\n",
    "        centroids = []\n",
    "\n",
    "        # For jaccard, we need entire row instead of just one element\n",
    "        for _ in range(self.k):\n",
    "            centroids.append(np.array(X_train.sample()))\n",
    "        \n",
    "        # Reshape\n",
    "        centroids = np.array(centroids).reshape(self.k, -1)\n",
    "        # print(\"Centroids array:\", np.array(centroids).shape)\n",
    "\n",
    "        # Initialize few required variables\n",
    "        iterations = 0\n",
    "        prev_centroids = None\n",
    "        \n",
    "        # Iteratively update the centroids\n",
    "        while(iterations < self.max_iter and np.not_equal(centroids, prev_centroids).any()):\n",
    "            print(\"Iteration Number: \", iterations)\n",
    "            \n",
    "            # Save the previous centroids so that current ones can be overwritten\n",
    "            prev_centroids = centroids\n",
    "\n",
    "            # Increment the number of iterations\n",
    "            iterations += 1\n",
    "\n",
    "            # Iterate over all rows\n",
    "            clusters = [[] for _ in range(self.k)]\n",
    "            for row in X_train.iterrows():\n",
    "                distance = self.distance_function(np.array(row[1]), np.array(centroids))\n",
    "                cluster_number = np.argmin(distance)\n",
    "                clusters[cluster_number].append(row[1])\n",
    "            \n",
    "            # Update the new centroid\n",
    "            centroids = []\n",
    "            for cluster in clusters:\n",
    "                cluster = np.array(cluster)\n",
    "                centroids.append(np.mean(cluster, axis = 0))\n",
    "\n",
    "            print(\"New centroids shape:\", np.array(centroids).shape)\n",
    "            print(\"Old centroids shape:\", np.array(centroids).shape)\n",
    "            print(\"\\n\\n\")\n",
    "\n",
    "        # Save the centroids and cluster in the class\n",
    "        self.centroids = centroids\n",
    "        self.clusters = clusters\n",
    "\n",
    "    # Evaluate the generated centroids\n",
    "    def evaluate(self, X_train, labels):\n",
    "        if self.evaluation_criteria == 'sse':\n",
    "            sse = 0\n",
    "            for index, cluster in enumerate(self.clusters):\n",
    "                for row in cluster:\n",
    "                    sse += self.__sumOfSquares(row, self.centroids[index])\n",
    "            return sse\n",
    "        else:\n",
    "            return self.__accuracy(X_train, labels)"
   ]
  },
  {
   "cell_type": "code",
   "execution_count": 19,
   "metadata": {},
   "outputs": [
    {
     "name": "stdout",
     "output_type": "stream",
     "text": [
      "Iteration Number:  0\n",
      "New centroids shape: (10, 784)\n",
      "Old centroids shape: (10, 784)\n",
      "\n",
      "\n",
      "\n",
      "Iteration Number:  1\n",
      "New centroids shape: (10, 784)\n",
      "Old centroids shape: (10, 784)\n",
      "\n",
      "\n",
      "\n",
      "Iteration Number:  2\n",
      "New centroids shape: (10, 784)\n",
      "Old centroids shape: (10, 784)\n",
      "\n",
      "\n",
      "\n",
      "Iteration Number:  3\n",
      "New centroids shape: (10, 784)\n",
      "Old centroids shape: (10, 784)\n",
      "\n",
      "\n",
      "\n",
      "Iteration Number:  4\n",
      "New centroids shape: (10,)\n",
      "Old centroids shape: (10,)\n",
      "\n",
      "\n",
      "\n"
     ]
    },
    {
     "ename": "ValueError",
     "evalue": "operands could not be broadcast together with shapes (10,) (10,784) ",
     "output_type": "error",
     "traceback": [
      "\u001b[0;31m---------------------------------------------------------------------------\u001b[0m",
      "\u001b[0;31mValueError\u001b[0m                                Traceback (most recent call last)",
      "\u001b[1;32m/home/sameep/Extra_Projects/DM/HW3/task1.ipynb Cell 4\u001b[0m line \u001b[0;36m5\n\u001b[1;32m      <a href='vscode-notebook-cell:/home/sameep/Extra_Projects/DM/HW3/task1.ipynb#X10sZmlsZQ%3D%3D?line=1'>2</a>\u001b[0m kmeans_cosine \u001b[39m=\u001b[39m KMeans(k \u001b[39m=\u001b[39m \u001b[39m10\u001b[39m, distance \u001b[39m=\u001b[39m \u001b[39m'\u001b[39m\u001b[39mcosine\u001b[39m\u001b[39m'\u001b[39m, max_iter \u001b[39m=\u001b[39m \u001b[39m10\u001b[39m, evaluation_criteria \u001b[39m=\u001b[39m \u001b[39m'\u001b[39m\u001b[39msse\u001b[39m\u001b[39m'\u001b[39m)\n\u001b[1;32m      <a href='vscode-notebook-cell:/home/sameep/Extra_Projects/DM/HW3/task1.ipynb#X10sZmlsZQ%3D%3D?line=3'>4</a>\u001b[0m \u001b[39m# Fit model\u001b[39;00m\n\u001b[0;32m----> <a href='vscode-notebook-cell:/home/sameep/Extra_Projects/DM/HW3/task1.ipynb#X10sZmlsZQ%3D%3D?line=4'>5</a>\u001b[0m kmeans_cosine\u001b[39m.\u001b[39;49mfit(data)\n\u001b[1;32m      <a href='vscode-notebook-cell:/home/sameep/Extra_Projects/DM/HW3/task1.ipynb#X10sZmlsZQ%3D%3D?line=6'>7</a>\u001b[0m \u001b[39m# Compute sse\u001b[39;00m\n\u001b[1;32m      <a href='vscode-notebook-cell:/home/sameep/Extra_Projects/DM/HW3/task1.ipynb#X10sZmlsZQ%3D%3D?line=7'>8</a>\u001b[0m sse_cosine \u001b[39m=\u001b[39m kmeans_cosine\u001b[39m.\u001b[39mevaluate(data, labels)\n",
      "\u001b[1;32m/home/sameep/Extra_Projects/DM/HW3/task1.ipynb Cell 4\u001b[0m line \u001b[0;36m7\n\u001b[1;32m     <a href='vscode-notebook-cell:/home/sameep/Extra_Projects/DM/HW3/task1.ipynb#X10sZmlsZQ%3D%3D?line=72'>73</a>\u001b[0m prev_centroids \u001b[39m=\u001b[39m \u001b[39mNone\u001b[39;00m\n\u001b[1;32m     <a href='vscode-notebook-cell:/home/sameep/Extra_Projects/DM/HW3/task1.ipynb#X10sZmlsZQ%3D%3D?line=74'>75</a>\u001b[0m \u001b[39m# Iteratively update the centroids\u001b[39;00m\n\u001b[0;32m---> <a href='vscode-notebook-cell:/home/sameep/Extra_Projects/DM/HW3/task1.ipynb#X10sZmlsZQ%3D%3D?line=75'>76</a>\u001b[0m \u001b[39mwhile\u001b[39;00m(iterations \u001b[39m<\u001b[39m \u001b[39mself\u001b[39m\u001b[39m.\u001b[39mmax_iter \u001b[39mand\u001b[39;00m np\u001b[39m.\u001b[39;49mnot_equal(centroids, prev_centroids)\u001b[39m.\u001b[39many()):\n\u001b[1;32m     <a href='vscode-notebook-cell:/home/sameep/Extra_Projects/DM/HW3/task1.ipynb#X10sZmlsZQ%3D%3D?line=76'>77</a>\u001b[0m     \u001b[39mprint\u001b[39m(\u001b[39m\"\u001b[39m\u001b[39mIteration Number: \u001b[39m\u001b[39m\"\u001b[39m, iterations)\n\u001b[1;32m     <a href='vscode-notebook-cell:/home/sameep/Extra_Projects/DM/HW3/task1.ipynb#X10sZmlsZQ%3D%3D?line=78'>79</a>\u001b[0m     \u001b[39m# Save the previous centroids so that current ones can be overwritten\u001b[39;00m\n",
      "\u001b[0;31mValueError\u001b[0m: operands could not be broadcast together with shapes (10,) (10,784) "
     ]
    }
   ],
   "source": [
    "# Cosine Similarity, with evaluation_criteria = 'sse'\n",
    "kmeans_cosine = KMeans(k = 10, distance = 'cosine', max_iter = 10, evaluation_criteria = 'sse')\n",
    "\n",
    "# Fit model\n",
    "kmeans_cosine.fit(data)\n",
    "\n",
    "# Compute sse\n",
    "sse_cosine = kmeans_cosine.evaluate(data, labels)\n",
    "\n",
    "# Display results\n",
    "print(\"Normalized Sum of Squares for Euclidean Distance:\", sse_cosine / data.shape[0])"
   ]
  },
  {
   "cell_type": "code",
   "execution_count": null,
   "metadata": {},
   "outputs": [
    {
     "name": "stdout",
     "output_type": "stream",
     "text": [
      "Iteration Number:  0\n",
      "Iteration Number:  1\n",
      "Iteration Number:  2\n",
      "Iteration Number:  3\n",
      "Iteration Number:  4\n",
      "Iteration Number:  5\n",
      "Iteration Number:  6\n",
      "Iteration Number:  7\n",
      "Iteration Number:  8\n",
      "Iteration Number:  9\n",
      "Normalized Sum of Squares for Jaccard Distance: 2555182.9031129084\n"
     ]
    }
   ],
   "source": [
    "# Jaccard distance, with evaluation_criteria as \"sse\"\n",
    "kmeans_jaccard = KMeans(k = 10, distance = 'jaccard', max_iter = 10, evaluation_criteria = 'sse')\n",
    "\n",
    "# Fit model\n",
    "kmeans_jaccard.fit(data)\n",
    "\n",
    "# Compute sse\n",
    "sse_jaccard = kmeans_jaccard.evaluate(data, labels)\n",
    "\n",
    "# Display results\n",
    "print(\"Normalized Sum of Squares for Jaccard Distance:\", sse_jaccard / data.shape[0])"
   ]
  },
  {
   "cell_type": "code",
   "execution_count": 5,
   "metadata": {},
   "outputs": [
    {
     "name": "stdout",
     "output_type": "stream",
     "text": [
      "Iteration Number:  0\n",
      "Iteration Number:  1\n",
      "Iteration Number:  2\n",
      "Iteration Number:  3\n",
      "Iteration Number:  4\n",
      "Iteration Number:  5\n",
      "Iteration Number:  6\n",
      "Iteration Number:  7\n",
      "Iteration Number:  8\n",
      "Iteration Number:  9\n",
      "Normalized Sum of Squares for Euclidean Distance: 2579730.1168876425\n"
     ]
    }
   ],
   "source": [
    "# Euclidean distance, with evaluation_criteria as \"sse\"\n",
    "kmeans_euclid = KMeans(k = 10, distance = 'euclidean', max_iter = 10, evaluation_criteria = 'sse')\n",
    "\n",
    "# Fit model\n",
    "kmeans_euclid.fit(data)\n",
    "\n",
    "# Compute sse\n",
    "sse_euclid = kmeans_euclid.evaluate(data, labels)\n",
    "\n",
    "# Display results\n",
    "print(\"Normalized Sum of Squares for Euclidean Distance:\", sse_euclid / data.shape[0])"
   ]
  },
  {
   "cell_type": "code",
   "execution_count": null,
   "metadata": {},
   "outputs": [],
   "source": [
    "# Euclidean Distance, with evaluation_criteria = 'accuracy'\n",
    "kmeans_euclid_acc = KMeans(k = 10, distance = 'euclidean', max_iter = 10, evaluation_criteria = 'accuracy')\n",
    "\n",
    "# Fit Model\n",
    "kmeans_euclid_acc.fit(data)\n",
    "\n",
    "# Compute accuracy\n",
    "accuracy = kmeans_euclid_acc.evaluate(data, labels)\n",
    "\n",
    "# Display results\n",
    "print('Accuracy for Euclidean Distance:', accuracy)"
   ]
  }
 ],
 "metadata": {
  "kernelspec": {
   "display_name": "venv",
   "language": "python",
   "name": "python3"
  },
  "language_info": {
   "codemirror_mode": {
    "name": "ipython",
    "version": 3
   },
   "file_extension": ".py",
   "mimetype": "text/x-python",
   "name": "python",
   "nbconvert_exporter": "python",
   "pygments_lexer": "ipython3",
   "version": "3.8.10"
  }
 },
 "nbformat": 4,
 "nbformat_minor": 2
}
