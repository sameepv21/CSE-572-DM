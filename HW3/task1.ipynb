{
 "cells": [
  {
   "cell_type": "code",
   "execution_count": 1,
   "metadata": {},
   "outputs": [],
   "source": [
    "import numpy as np\n",
    "import pandas as pd\n",
    "from operator import sub\n",
    "from tqdm import tqdm\n",
    "import warnings\n",
    "warnings.filterwarnings(\"ignore\")"
   ]
  },
  {
   "cell_type": "code",
   "execution_count": 2,
   "metadata": {},
   "outputs": [
    {
     "data": {
      "text/plain": [
       "(10000, 784)"
      ]
     },
     "execution_count": 2,
     "metadata": {},
     "output_type": "execute_result"
    }
   ],
   "source": [
    "# Read data and labels\n",
    "data = pd.read_csv(\"../data/kmeans_data/data.csv\", header = None)\n",
    "labels = pd.read_csv('../data/kmeans_data/label.csv', header = None)\n",
    "\n",
    "data.shape"
   ]
  },
  {
   "cell_type": "code",
   "execution_count": 3,
   "metadata": {},
   "outputs": [],
   "source": [
    "# Define class to implement kmeans\n",
    "class KMeans():\n",
    "    def __init__(self, k, distance, max_iter, evaluation_criteria):\n",
    "        # Store in the class\n",
    "        self.k = k\n",
    "        self.max_iter = max_iter\n",
    "\n",
    "        # Decide which distance to use\n",
    "        if distance == \"euclidean\":\n",
    "            self.distance_function = self.__euclidean\n",
    "        elif distance == 'cosine':\n",
    "            self.distance_function = self.__cosine\n",
    "        else:\n",
    "            self.distance_function = self.__jaccard\n",
    "\n",
    "        # Decide which evaluation function to use\n",
    "        self.evaluation_criteria = evaluation_criteria\n",
    "\n",
    "    # Compute euclidean function\n",
    "    def __euclidean(self, x, centroids):\n",
    "        euclid = []\n",
    "        for center in centroids:\n",
    "            temp_euclid = x - np.array(center)\n",
    "            euclid.append(np.sqrt(np.dot(temp_euclid, temp_euclid.T)))\n",
    "        return euclid\n",
    "\n",
    "    # Compute cosine function\n",
    "    def __cosine(self, x, centroids):\n",
    "        cosine = []\n",
    "        for center in centroids:\n",
    "            cosine.append(np.dot(x, center) / (np.linalg.norm(x) * np.linalg.norm(center)))\n",
    "        return cosine\n",
    "\n",
    "    # Compute jaccard function\n",
    "    def __jaccard(self, x, centroids):\n",
    "        jaccard = []\n",
    "        for center in centroids:\n",
    "            temp_jaccard = np.sum(min(x, center)) / np.sum(max(x, center))\n",
    "            jaccard.append(1 - temp_jaccard)\n",
    "        return jaccard\n",
    "    \n",
    "    # Compute Sum Of Squared Error\n",
    "    def __sumOfSquares(self, x, center):\n",
    "        sse = 0\n",
    "        for i in range(len(center)):\n",
    "            sse += (center[i] - x[i])**2\n",
    "        return sse\n",
    "\n",
    "    # Compute Accuracy\n",
    "    def __accuracy(self, X_train, labels):\n",
    "        correct = 0\n",
    "        for index, row in enumerate(X_train.iterrows()):\n",
    "            if row in self.clusters[labels[index]]:\n",
    "                correct += 1\n",
    "        return 100 * correct / X_train.shape[0]\n",
    "\n",
    "    # Fit the model and find the centroids\n",
    "    def fit(self, X_train):\n",
    "        # Initially, randomly select k datapoints as centrod.\n",
    "        centroids = []\n",
    "        for _ in range(self.k):\n",
    "            centroids.append(np.mean(np.array(X_train.sample())))\n",
    "        \n",
    "        centroids = np.array(centroids).reshape(10, -1)\n",
    "        \n",
    "        # Initialize few required variables\n",
    "        iterations = 0\n",
    "        prev_centroids = None\n",
    "        \n",
    "        # Iteratively update the centroids\n",
    "        while(iterations < self.max_iter and np.not_equal(centroids, prev_centroids).any()):\n",
    "            print(\"Iteration Number: \", iterations)\n",
    "                \n",
    "            # Save the previous centroids so that current ones can be overwritten\n",
    "            prev_centroids = centroids\n",
    "\n",
    "            # Increment the number of iterations\n",
    "            iterations += 1\n",
    "\n",
    "            # Iterate over all rows\n",
    "            clusters = [[] for _ in range(self.k)]\n",
    "            for row in X_train.iterrows():\n",
    "                distance = self.distance_function(np.array(row[1].T), centroids)\n",
    "                distance = np.array(distance).flatten()\n",
    "                cluster_number = np.argmin(distance)\n",
    "                clusters[cluster_number].append(row)\n",
    "            \n",
    "            # Update the new centroid\n",
    "            centroids = []\n",
    "            for cluster in clusters:\n",
    "                centroids.append(np.mean(np.mean(cluster)))\n",
    "            \n",
    "            centroids = np.array(centroids).reshape(-1, 1)\n",
    "    \n",
    "        self.centroids = centroids\n",
    "        self.clusters = cluster\n",
    "\n",
    "    # Evaluate the generated centroids\n",
    "    def evaluate(self, X_train, labels):\n",
    "        if self.evaluation_criteria == 'sse':\n",
    "            sse = 0\n",
    "            for index, cluster in enumerate(self.clusters):\n",
    "                for row in cluster:\n",
    "                    sse += self.__sumOfSquares(row, self.centroids[index])\n",
    "            return sse\n",
    "        else:\n",
    "            return self.__accuracy(X_train, labels)"
   ]
  },
  {
   "cell_type": "code",
   "execution_count": 5,
   "metadata": {},
   "outputs": [
    {
     "name": "stdout",
     "output_type": "stream",
     "text": [
      "Iteration Number:  0\n",
      "Iteration Number:  1\n",
      "Iteration Number:  2\n",
      "Iteration Number:  3\n",
      "Iteration Number:  4\n",
      "Iteration Number:  5\n",
      "Iteration Number:  6\n",
      "Iteration Number:  7\n",
      "Iteration Number:  8\n",
      "Iteration Number:  9\n",
      "sum of squares for euclidean distance 0\n"
     ]
    }
   ],
   "source": [
    "kmeans_euclid = KMeans(k = 10, distance = 'euclidean', max_iter = 10, evaluation_criteria = 'sse')\n",
    "kmeans_cosine = KMeans(k = 10, distance = 'cosine', max_iter = 10, evaluation_criteria = 'sse')\n",
    "kmeans_jaccard = KMeans(k = 10, distance = 'jaccard', max_iter = 10, evaluation_criteria = 'sse')\n",
    "\n",
    "kmeans_euclid.fit(data)\n",
    "# kmeans_cosine.fit(data)\n",
    "# kmeans_jaccard.fit(data)\n",
    "\n",
    "sse_euclid = kmeans_euclid.evaluate(data, labels)\n",
    "# sse_cosine = kmeans_cosine.evaluate(data, labels)\n",
    "# sse_jaccard = kmeans_jaccard.evaluate(data, labels)\n",
    "\n",
    "print(\"sum of squares for euclidean distance:\", sse_euclid)\n",
    "# print(sse_cosine)\n",
    "# print(sse_jaccard)"
   ]
  }
 ],
 "metadata": {
  "kernelspec": {
   "display_name": "venv",
   "language": "python",
   "name": "python3"
  },
  "language_info": {
   "codemirror_mode": {
    "name": "ipython",
    "version": 3
   },
   "file_extension": ".py",
   "mimetype": "text/x-python",
   "name": "python",
   "nbconvert_exporter": "python",
   "pygments_lexer": "ipython3",
   "version": "3.8.10"
  }
 },
 "nbformat": 4,
 "nbformat_minor": 2
}
