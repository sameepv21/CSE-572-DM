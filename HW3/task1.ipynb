{
 "cells": [
  {
   "cell_type": "code",
   "execution_count": 1,
   "metadata": {},
   "outputs": [],
   "source": [
    "import numpy as np\n",
    "import pandas as pd\n",
    "from tqdm import tqdm\n",
    "import warnings\n",
    "warnings.filterwarnings(\"ignore\")"
   ]
  },
  {
   "cell_type": "code",
   "execution_count": 2,
   "metadata": {},
   "outputs": [
    {
     "data": {
      "text/plain": [
       "(10000, 784)"
      ]
     },
     "execution_count": 2,
     "metadata": {},
     "output_type": "execute_result"
    }
   ],
   "source": [
    "# Read data and labels\n",
    "data = pd.read_csv(\"../data/kmeans_data/data.csv\", header = None)\n",
    "labels = pd.read_csv('../data/kmeans_data/label.csv', header = None)\n",
    "\n",
    "data.shape"
   ]
  },
  {
   "cell_type": "code",
   "execution_count": 13,
   "metadata": {},
   "outputs": [],
   "source": [
    "# Define class to implement kmeans\n",
    "class KMeans():\n",
    "    def __init__(self, k, distance, max_iter, evaluation_criteria):\n",
    "        # Store in the class\n",
    "        self.k = k\n",
    "        self.max_iter = max_iter\n",
    "        self.distance = distance\n",
    "        self.evaluation_criteria = evaluation_criteria\n",
    "\n",
    "        # Decide which distance to use\n",
    "        if distance == \"euclidean\":\n",
    "            self.distance_function = self.__euclidean\n",
    "        elif distance == 'cosine':\n",
    "            self.distance_function = self.__cosine\n",
    "        else:\n",
    "            self.distance_function = self.__jaccard\n",
    "\n",
    "    # Compute euclidean function\n",
    "    def __euclidean(self, x, centroids):\n",
    "        euclid = []\n",
    "        for center in centroids:\n",
    "            temp_euclid = x - np.array(center)\n",
    "            euclid.append(np.sqrt(np.dot(temp_euclid, temp_euclid.T)))\n",
    "        return euclid\n",
    "\n",
    "    # Compute cosine function\n",
    "    def __cosine(self, x, centroids):\n",
    "        x = np.array(x).reshape(-1, 1)\n",
    "        cosine = []\n",
    "        for center in centroids:\n",
    "            center = np.array(center).reshape(-1, 1)\n",
    "            temp_cosine = np.dot(x, center) / (np.linalg.norm(x) * np.linalg.norm(center))\n",
    "            cosine.append(np.linalg.norm(temp_cosine))\n",
    "        return cosine\n",
    "\n",
    "    # Compute jaccard function\n",
    "    def __jaccard(self, x, centroids):\n",
    "        jaccard = []\n",
    "        for center in centroids:\n",
    "            numerator = 0\n",
    "            denominator = 0\n",
    "            for i in range(len(center)):\n",
    "                numerator += min(x[i], center[i])\n",
    "                denominator += max(x[i], center[i])\n",
    "            temp_jaccard = numerator / denominator\n",
    "            jaccard.append(1 - temp_jaccard)\n",
    "        return jaccard\n",
    "    \n",
    "    # Compute Sum Of Squared Error\n",
    "    def __sumOfSquares(self, x, center):\n",
    "        sse = 0\n",
    "        for i in range(len(center)):\n",
    "            sse += (center[i] - x[i])**2\n",
    "        return sse\n",
    "\n",
    "    # Compute Accuracy\n",
    "    def __accuracy(self, X_train, labels):\n",
    "        correct = 0\n",
    "        for index, row in enumerate(X_train.iterrows()):\n",
    "            if row in self.clusters[labels[index]]:\n",
    "                correct += 1\n",
    "        return 100 * correct / X_train.shape[0]\n",
    "\n",
    "    # Fit the model and find the centroids\n",
    "    def fit(self, X_train):\n",
    "        # Initially, randomly select k datapoints as centrod.\n",
    "        centroids = []\n",
    "\n",
    "        # For jaccard, we need entire row instead of just one element\n",
    "        if self.distance == 'jaccard':\n",
    "            for _ in range(self.k):\n",
    "                centroids.append(np.array(X_train.sample()))\n",
    "        else:\n",
    "            for _ in range(self.k):\n",
    "                centroids.append(np.mean(np.array(X_train.sample())))\n",
    "        \n",
    "        centroids = np.array(centroids).reshape(10, -1)\n",
    "        \n",
    "        # Initialize few required variables\n",
    "        iterations = 0\n",
    "        prev_centroids = None\n",
    "        \n",
    "        # Iteratively update the centroids\n",
    "        while(iterations < self.max_iter and np.not_equal(centroids, prev_centroids).any()):\n",
    "            print(\"Iteration Number: \", iterations)\n",
    "                \n",
    "            # Save the previous centroids so that current ones can be overwritten\n",
    "            prev_centroids = centroids\n",
    "\n",
    "            # Increment the number of iterations\n",
    "            iterations += 1\n",
    "\n",
    "            # Iterate over all rows\n",
    "            clusters = [[] for _ in range(self.k)]\n",
    "            for row in tqdm(X_train.iterrows()):\n",
    "                distance = self.distance_function(np.array(row[1].T), centroids)\n",
    "                if self.distance != 'jaccard':\n",
    "                    print(\"Flattening...\")\n",
    "                    distance = np.array(distance).flatten()\n",
    "                cluster_number = np.argmin(distance)\n",
    "                clusters[cluster_number].append(row)\n",
    "            \n",
    "            # Update the new centroid\n",
    "            centroids = []\n",
    "            if self.distance == 'jaccard':\n",
    "                print(\"Cluster Shape\", np.array(clusters).shape)\n",
    "                print(\"Value cluster shape\", np.array(clusters[0]).shape)\n",
    "                for cluster in clusters:\n",
    "                    centroids.append(np.mean(cluster))\n",
    "            else:\n",
    "                for cluster in clusters:\n",
    "                    centroids.append(np.mean(np.mean(cluster)))\n",
    "                centroids = np.array(centroids).reshape(-1, 1)\n",
    "        \n",
    "            print(\"Centroid Shape\", np.array(centroids).shape)\n",
    "            print(\"prev centroid shape\", np.array(prev_centroids).shape)\n",
    "\n",
    "        # Save the centroids and cluster in the class\n",
    "        self.centroids = centroids\n",
    "        self.clusters = clusters\n",
    "\n",
    "    # Evaluate the generated centroids\n",
    "    def evaluate(self, X_train, labels):\n",
    "        if self.evaluation_criteria is 'sse':\n",
    "            sse = 0\n",
    "            for index, cluster in enumerate(self.clusters):\n",
    "                for row in cluster:\n",
    "                    sse += self.__sumOfSquares(row, self.centroids[index])\n",
    "            return sse\n",
    "        else:\n",
    "            return self.__accuracy(X_train, labels)"
   ]
  },
  {
   "cell_type": "code",
   "execution_count": 14,
   "metadata": {},
   "outputs": [
    {
     "name": "stdout",
     "output_type": "stream",
     "text": [
      "Iteration Number:  0\n"
     ]
    },
    {
     "name": "stderr",
     "output_type": "stream",
     "text": [
      "10000it [00:53, 186.87it/s]\n"
     ]
    },
    {
     "name": "stdout",
     "output_type": "stream",
     "text": [
      "Cluster Shape (10,)\n",
      "Value cluster shape (202, 2)\n",
      "Centroid Shape (10, 784)\n",
      "prev centroid shape (10, 784)\n",
      "Iteration Number:  1\n"
     ]
    },
    {
     "name": "stderr",
     "output_type": "stream",
     "text": [
      "10000it [00:52, 190.79it/s]\n"
     ]
    },
    {
     "name": "stdout",
     "output_type": "stream",
     "text": [
      "Cluster Shape (10,)\n",
      "Value cluster shape (0,)\n",
      "Centroid Shape (10,)\n",
      "prev centroid shape (10, 784)\n"
     ]
    },
    {
     "ename": "ValueError",
     "evalue": "operands could not be broadcast together with shapes (10,) (10,784) ",
     "output_type": "error",
     "traceback": [
      "\u001b[0;31m---------------------------------------------------------------------------\u001b[0m",
      "\u001b[0;31mValueError\u001b[0m                                Traceback (most recent call last)",
      "\u001b[1;32m/home/sameep/Extra_Projects/DM/HW3/task1.ipynb Cell 4\u001b[0m line \u001b[0;36m5\n\u001b[1;32m      <a href='vscode-notebook-cell:/home/sameep/Extra_Projects/DM/HW3/task1.ipynb#W3sZmlsZQ%3D%3D?line=1'>2</a>\u001b[0m kmeans_jaccard \u001b[39m=\u001b[39m KMeans(k \u001b[39m=\u001b[39m \u001b[39m10\u001b[39m, distance \u001b[39m=\u001b[39m \u001b[39m'\u001b[39m\u001b[39mjaccard\u001b[39m\u001b[39m'\u001b[39m, max_iter \u001b[39m=\u001b[39m \u001b[39m10\u001b[39m, evaluation_criteria \u001b[39m=\u001b[39m \u001b[39m'\u001b[39m\u001b[39msse\u001b[39m\u001b[39m'\u001b[39m)\n\u001b[1;32m      <a href='vscode-notebook-cell:/home/sameep/Extra_Projects/DM/HW3/task1.ipynb#W3sZmlsZQ%3D%3D?line=3'>4</a>\u001b[0m \u001b[39m# Fit model\u001b[39;00m\n\u001b[0;32m----> <a href='vscode-notebook-cell:/home/sameep/Extra_Projects/DM/HW3/task1.ipynb#W3sZmlsZQ%3D%3D?line=4'>5</a>\u001b[0m kmeans_jaccard\u001b[39m.\u001b[39;49mfit(data)\n\u001b[1;32m      <a href='vscode-notebook-cell:/home/sameep/Extra_Projects/DM/HW3/task1.ipynb#W3sZmlsZQ%3D%3D?line=6'>7</a>\u001b[0m \u001b[39m# Compute sse\u001b[39;00m\n\u001b[1;32m      <a href='vscode-notebook-cell:/home/sameep/Extra_Projects/DM/HW3/task1.ipynb#W3sZmlsZQ%3D%3D?line=7'>8</a>\u001b[0m sse_jaccard \u001b[39m=\u001b[39m kmeans_jaccard\u001b[39m.\u001b[39mevaluate(data, labels)\n",
      "\u001b[1;32m/home/sameep/Extra_Projects/DM/HW3/task1.ipynb Cell 4\u001b[0m line \u001b[0;36m8\n\u001b[1;32m     <a href='vscode-notebook-cell:/home/sameep/Extra_Projects/DM/HW3/task1.ipynb#W3sZmlsZQ%3D%3D?line=80'>81</a>\u001b[0m prev_centroids \u001b[39m=\u001b[39m \u001b[39mNone\u001b[39;00m\n\u001b[1;32m     <a href='vscode-notebook-cell:/home/sameep/Extra_Projects/DM/HW3/task1.ipynb#W3sZmlsZQ%3D%3D?line=82'>83</a>\u001b[0m \u001b[39m# Iteratively update the centroids\u001b[39;00m\n\u001b[0;32m---> <a href='vscode-notebook-cell:/home/sameep/Extra_Projects/DM/HW3/task1.ipynb#W3sZmlsZQ%3D%3D?line=83'>84</a>\u001b[0m \u001b[39mwhile\u001b[39;00m(iterations \u001b[39m<\u001b[39m \u001b[39mself\u001b[39m\u001b[39m.\u001b[39mmax_iter \u001b[39mand\u001b[39;00m np\u001b[39m.\u001b[39;49mnot_equal(centroids, prev_centroids)\u001b[39m.\u001b[39many()):\n\u001b[1;32m     <a href='vscode-notebook-cell:/home/sameep/Extra_Projects/DM/HW3/task1.ipynb#W3sZmlsZQ%3D%3D?line=84'>85</a>\u001b[0m     \u001b[39mprint\u001b[39m(\u001b[39m\"\u001b[39m\u001b[39mIteration Number: \u001b[39m\u001b[39m\"\u001b[39m, iterations)\n\u001b[1;32m     <a href='vscode-notebook-cell:/home/sameep/Extra_Projects/DM/HW3/task1.ipynb#W3sZmlsZQ%3D%3D?line=86'>87</a>\u001b[0m     \u001b[39m# Save the previous centroids so that current ones can be overwritten\u001b[39;00m\n",
      "\u001b[0;31mValueError\u001b[0m: operands could not be broadcast together with shapes (10,) (10,784) "
     ]
    }
   ],
   "source": [
    "# Jaccard distance, with evaluation_criteria as \"sse\"\n",
    "kmeans_jaccard = KMeans(k = 10, distance = 'jaccard', max_iter = 10, evaluation_criteria = 'sse')\n",
    "\n",
    "# Fit model\n",
    "kmeans_jaccard.fit(data)\n",
    "\n",
    "# Compute sse\n",
    "sse_jaccard = kmeans_jaccard.evaluate(data, labels)\n",
    "\n",
    "# Display results\n",
    "print(\"Sum of Squares for Jaccard Distance:\", sse_jaccard / data.shape[0])"
   ]
  },
  {
   "cell_type": "code",
   "execution_count": null,
   "metadata": {},
   "outputs": [],
   "source": [
    "# Euclidean distance, with evaluation_criteria as \"sse\"\n",
    "kmeans_euclid = KMeans(k = 10, distance = 'euclidean', max_iter = 10, evaluation_criteria = 'sse')\n",
    "\n",
    "# Fit model\n",
    "kmeans_euclid.fit(data)\n",
    "\n",
    "# Compute sse\n",
    "sse_euclid = kmeans_euclid.evaluate(data, labels)\n",
    "\n",
    "# Display results\n",
    "print(\"Sum of Squares for Euclidean Distance:\", sse_euclid / data.shape[0])"
   ]
  },
  {
   "cell_type": "code",
   "execution_count": null,
   "metadata": {},
   "outputs": [],
   "source": [
    "# Cosine Similarity, with evaluation_criteria = 'sse'\n",
    "kmeans_cosine = KMeans(k = 10, distance = 'cosine', max_iter = 10, evaluation_criteria = 'sse')\n",
    "\n",
    "# Fit model\n",
    "kmeans_cosine.fit(data)\n",
    "\n",
    "# Compute sse\n",
    "sse_cosine = kmeans_cosine.evaluate(data, labels)\n",
    "\n",
    "# Display results\n",
    "print(\"Sum of Squares for Euclidean Distance:\", sse_cosine / data.shape[0])"
   ]
  }
 ],
 "metadata": {
  "kernelspec": {
   "display_name": "venv",
   "language": "python",
   "name": "python3"
  },
  "language_info": {
   "codemirror_mode": {
    "name": "ipython",
    "version": 3
   },
   "file_extension": ".py",
   "mimetype": "text/x-python",
   "name": "python",
   "nbconvert_exporter": "python",
   "pygments_lexer": "ipython3",
   "version": "3.8.10"
  }
 },
 "nbformat": 4,
 "nbformat_minor": 2
}
