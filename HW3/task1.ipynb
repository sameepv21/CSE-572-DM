{
 "cells": [
  {
   "cell_type": "code",
   "execution_count": 2,
   "metadata": {},
   "outputs": [],
   "source": [
    "import numpy as np\n",
    "import pandas as pd\n",
    "import seaborn as sns\n",
    "import matplotlib.pyplot as plt\n",
    "from tqdm import tqdm"
   ]
  },
  {
   "cell_type": "code",
   "execution_count": 3,
   "metadata": {},
   "outputs": [
    {
     "data": {
      "text/plain": [
       "(10000, 784)"
      ]
     },
     "execution_count": 3,
     "metadata": {},
     "output_type": "execute_result"
    }
   ],
   "source": [
    "# Read data and labels\n",
    "data = pd.read_csv(\"../data/kmeans_data/data.csv\", header = None)\n",
    "labels = pd.read_csv('../data/kmeans_data/label.csv', header = None)\n",
    "\n",
    "data.shape"
   ]
  },
  {
   "cell_type": "code",
   "execution_count": 4,
   "metadata": {},
   "outputs": [],
   "source": [
    "# Define class to implement kmeans\n",
    "class KMeans():\n",
    "    def __init__(self, k, distance, max_iter, evaluation_criteria):\n",
    "        self.k = k\n",
    "        self.max_iter = max_iter\n",
    "        if distance == \"euclidean\":\n",
    "            self.distance_function = self.__euclidean()\n",
    "        elif distance == 'cosine':\n",
    "            self.distance_function = self.__cosine()\n",
    "        else:\n",
    "            self.distance_function = self.__jaccard()\n",
    "\n",
    "        if evaluation_criteria == 'SSE':\n",
    "            self.evaluation_function = self.__sumOfSquares()\n",
    "        else:\n",
    "            self.evaluation_function = self.__accuracy()\n",
    "\n",
    "    def __euclidean(self, x, centroids):\n",
    "        euclid = []\n",
    "        for center in centroids:\n",
    "            euclid.append(np.linalg.norm(x - center))\n",
    "        return euclid\n",
    "\n",
    "    def __cosine(self, x, centroids):\n",
    "        cosine = []\n",
    "        for center in centroids:\n",
    "            cosine.append(np.dot(x, center) / (np.linalg.norm(x) * np.linalg.norm(center)))\n",
    "        return cosine\n",
    "\n",
    "    def __jaccard(self, x, centroids):\n",
    "        jaccard = []\n",
    "        for center in centroids:\n",
    "            temp_jaccard = np.sum(min(x, center)) / np.sum(max(x, center))\n",
    "            jaccard.append(1 - temp_jaccard)\n",
    "        return jaccard\n",
    "    \n",
    "    def __sumOfSquares(self, X_train, labels):\n",
    "        pass\n",
    "\n",
    "    def __accuracy(self, X_train, labels):\n",
    "        pass\n",
    "\n",
    "    def fit(self, X_train):\n",
    "        # Initially, randomly select k datapoints as centrod.\n",
    "        centroids = []\n",
    "        for _ in range(self.k):\n",
    "            centroids.append(X_train.sample())\n",
    "        \n",
    "        # Initialize few required variables\n",
    "        iterations = 0\n",
    "        prev_centroids = None\n",
    "        \n",
    "        # Iteratively update the centroids\n",
    "        while(iterations < self.max_iter and prev_centroids != centroids):\n",
    "            # Save the previous centroids so that current ones can be overwritten\n",
    "            prev_centroids = centroids\n",
    "\n",
    "            # Increment the number of iterations\n",
    "            iterations += 1\n",
    "\n",
    "            # Iterate over all rows\n",
    "            clusters = [[] for _ in range(self.k)]\n",
    "            for row in X_train.iterrows():\n",
    "                distance = self.distance_function(row, centroids)\n",
    "                cluster_number = np.argmin(distance)\n",
    "                clusters[cluster_number].append(row)\n",
    "            \n",
    "            # Update the new centroid\n",
    "            centroids = []\n",
    "            for cluster in clusters:\n",
    "                centroids.append(np.mean(cluster))\n",
    "    \n",
    "        self.centroids = centroids\n",
    "\n",
    "    def evaluate(self, X_train, labels):\n",
    "        pass"
   ]
  }
 ],
 "metadata": {
  "kernelspec": {
   "display_name": "venv",
   "language": "python",
   "name": "python3"
  },
  "language_info": {
   "codemirror_mode": {
    "name": "ipython",
    "version": 3
   },
   "file_extension": ".py",
   "mimetype": "text/x-python",
   "name": "python",
   "nbconvert_exporter": "python",
   "pygments_lexer": "ipython3",
   "version": "3.8.10"
  }
 },
 "nbformat": 4,
 "nbformat_minor": 2
}
