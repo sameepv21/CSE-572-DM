{
 "cells": [
  {
   "cell_type": "code",
   "execution_count": 2,
   "metadata": {},
   "outputs": [],
   "source": [
    "import numpy as np\n",
    "import pandas as pd\n",
    "import warnings\n",
    "warnings.filterwarnings(\"ignore\")"
   ]
  },
  {
   "cell_type": "code",
   "execution_count": 3,
   "metadata": {},
   "outputs": [
    {
     "data": {
      "text/plain": [
       "(10000, 784)"
      ]
     },
     "execution_count": 3,
     "metadata": {},
     "output_type": "execute_result"
    }
   ],
   "source": [
    "# Read data and labels\n",
    "data = pd.read_csv(\"../data/kmeans_data/data.csv\", header = None)\n",
    "labels = pd.read_csv('../data/kmeans_data/label.csv', header = None)\n",
    "\n",
    "data.shape"
   ]
  },
  {
   "cell_type": "code",
   "execution_count": 16,
   "metadata": {},
   "outputs": [],
   "source": [
    "# Define class to implement kmeans\n",
    "class KMeans():\n",
    "    def __init__(self, k, distance, max_iter, evaluation_criteria):\n",
    "        # Store in the class\n",
    "        self.k = k\n",
    "        self.max_iter = max_iter\n",
    "        self.distance = distance\n",
    "        self.evaluation_criteria = evaluation_criteria\n",
    "\n",
    "        # Decide which distance to use\n",
    "        if distance == \"euclidean\":\n",
    "            self.distance_function = self.__euclidean\n",
    "        elif distance == 'cosine':\n",
    "            self.distance_function = self.__cosine\n",
    "        else:\n",
    "            self.distance_function = self.__jaccard\n",
    "\n",
    "    # Compute euclidean function\n",
    "    def __euclidean(self, x, centroids):\n",
    "        euclid = []\n",
    "        for center in centroids:\n",
    "            euclid.append(np.sqrt(np.sum((x - center)**2)))\n",
    "        return euclid\n",
    "\n",
    "    # Compute cosine function\n",
    "    def __cosine(self, x, centroids):\n",
    "        cosine = []\n",
    "        for center in centroids:\n",
    "            cosine.append(np.dot(x.T, center) / (np.linalg.norm(x) * np.linalg.norm(center)))\n",
    "        return cosine\n",
    "\n",
    "    # Compute jaccard function\n",
    "    def __jaccard(self, x, centroids):\n",
    "        jaccard = []\n",
    "\n",
    "        for center in centroids:\n",
    "            numerator = np.sum(np.minimum(x, center))\n",
    "            denominator = np.sum(np.maximum(x, center))\n",
    "            temp_jaccard = 1 - (numerator / denominator)\n",
    "            jaccard.append(temp_jaccard)\n",
    "        \n",
    "        return jaccard\n",
    "    \n",
    "    # Compute Sum Of Squared Error\n",
    "    def __sumOfSquares(self, x, center):\n",
    "        sse = 0\n",
    "        for i in range(len(center)):\n",
    "            sse += (center[i] - x[i])**2\n",
    "        return sse\n",
    "\n",
    "    # Compute Accuracy\n",
    "    def __accuracy(self, X_train, labels):\n",
    "        correct = 0\n",
    "        for index, row in enumerate(X_train.iterrows()):\n",
    "            flag = True\n",
    "            for cluster_row in self.clusters[labels.iloc[index].values[0]]:\n",
    "                if np.not_equal(cluster_row, row[1]).any():\n",
    "                    flag = False\n",
    "                    break\n",
    "                if flag:\n",
    "                    correct += 1\n",
    "        return 100 * (correct / X_train.shape[0])\n",
    "\n",
    "    # Fit the model and find the centroids\n",
    "    def fit(self, X_train):\n",
    "        # Initially, randomly select k datapoints as centrod.\n",
    "        centroids = []\n",
    "\n",
    "        # For jaccard, we need entire row instead of just one element\n",
    "        for _ in range(self.k):\n",
    "            centroids.append(np.array(X_train.sample()))\n",
    "        \n",
    "        # Reshape\n",
    "        centroids = np.array(centroids).reshape(self.k, -1)\n",
    "        # print(\"Centroids array:\", np.array(centroids).shape)\n",
    "\n",
    "        # Initialize few required variables\n",
    "        iterations = 0\n",
    "        prev_centroids = None\n",
    "        \n",
    "        # Iteratively update the centroids\n",
    "        while(iterations < self.max_iter and np.not_equal(centroids, prev_centroids).any()):\n",
    "            print(\"Iteration Number: \", iterations)\n",
    "            \n",
    "            # Save the previous centroids so that current ones can be overwritten\n",
    "            prev_centroids = centroids\n",
    "\n",
    "            # Increment the number of iterations\n",
    "            iterations += 1\n",
    "\n",
    "            # Iterate over all rows\n",
    "            clusters = [[] for _ in range(self.k)]\n",
    "            for row in X_train.iterrows():\n",
    "                distance = self.distance_function(np.array(row[1]), np.array(centroids))\n",
    "                cluster_number = np.argmin(distance)\n",
    "                clusters[cluster_number].append(row[1])\n",
    "            \n",
    "            # Update the new centroid\n",
    "            centroids = []\n",
    "            for cluster in clusters:\n",
    "                cluster = np.array(cluster)\n",
    "                if len(cluster) == 0:\n",
    "                    centroids.append(np.zeros(784))\n",
    "                else:\n",
    "                    centroids.append(np.mean(cluster, axis = 0))\n",
    "\n",
    "        # Save the centroids and cluster in the class\n",
    "        self.centroids = centroids\n",
    "        self.clusters = clusters\n",
    "\n",
    "    # Evaluate the generated centroids\n",
    "    def evaluate(self, X_train, labels):\n",
    "        if self.evaluation_criteria == 'sse':\n",
    "            sse = 0\n",
    "            for index, cluster in enumerate(self.clusters):\n",
    "                for row in cluster:\n",
    "                    sse += self.__sumOfSquares(row, self.centroids[index])\n",
    "            return sse\n",
    "        else:\n",
    "            return self.__accuracy(X_train, labels)"
   ]
  },
  {
   "cell_type": "code",
   "execution_count": 12,
   "metadata": {},
   "outputs": [
    {
     "name": "stdout",
     "output_type": "stream",
     "text": [
      "Iteration Number:  0\n",
      "Iteration Number:  1\n",
      "Iteration Number:  2\n",
      "Iteration Number:  3\n",
      "Iteration Number:  4\n"
     ]
    },
    {
     "ename": "KeyboardInterrupt",
     "evalue": "",
     "output_type": "error",
     "traceback": [
      "\u001b[0;31m---------------------------------------------------------------------------\u001b[0m",
      "\u001b[0;31mKeyboardInterrupt\u001b[0m                         Traceback (most recent call last)",
      "\u001b[1;32m/home/sameep/Extra_Projects/DM/HW3/task1.ipynb Cell 4\u001b[0m line \u001b[0;36m5\n\u001b[1;32m      <a href='vscode-notebook-cell:/home/sameep/Extra_Projects/DM/HW3/task1.ipynb#W3sZmlsZQ%3D%3D?line=1'>2</a>\u001b[0m kmeans_cosine \u001b[39m=\u001b[39m KMeans(k \u001b[39m=\u001b[39m \u001b[39m10\u001b[39m, distance \u001b[39m=\u001b[39m \u001b[39m'\u001b[39m\u001b[39mcosine\u001b[39m\u001b[39m'\u001b[39m, max_iter \u001b[39m=\u001b[39m \u001b[39m10\u001b[39m, evaluation_criteria \u001b[39m=\u001b[39m \u001b[39m'\u001b[39m\u001b[39msse\u001b[39m\u001b[39m'\u001b[39m)\n\u001b[1;32m      <a href='vscode-notebook-cell:/home/sameep/Extra_Projects/DM/HW3/task1.ipynb#W3sZmlsZQ%3D%3D?line=3'>4</a>\u001b[0m \u001b[39m# Fit model\u001b[39;00m\n\u001b[0;32m----> <a href='vscode-notebook-cell:/home/sameep/Extra_Projects/DM/HW3/task1.ipynb#W3sZmlsZQ%3D%3D?line=4'>5</a>\u001b[0m kmeans_cosine\u001b[39m.\u001b[39;49mfit(data)\n\u001b[1;32m      <a href='vscode-notebook-cell:/home/sameep/Extra_Projects/DM/HW3/task1.ipynb#W3sZmlsZQ%3D%3D?line=6'>7</a>\u001b[0m \u001b[39m# Compute sse\u001b[39;00m\n\u001b[1;32m      <a href='vscode-notebook-cell:/home/sameep/Extra_Projects/DM/HW3/task1.ipynb#W3sZmlsZQ%3D%3D?line=7'>8</a>\u001b[0m sse_cosine \u001b[39m=\u001b[39m kmeans_cosine\u001b[39m.\u001b[39mevaluate(data, labels)\n",
      "\u001b[1;32m/home/sameep/Extra_Projects/DM/HW3/task1.ipynb Cell 4\u001b[0m line \u001b[0;36m8\n\u001b[1;32m     <a href='vscode-notebook-cell:/home/sameep/Extra_Projects/DM/HW3/task1.ipynb#W3sZmlsZQ%3D%3D?line=86'>87</a>\u001b[0m \u001b[39m# Iterate over all rows\u001b[39;00m\n\u001b[1;32m     <a href='vscode-notebook-cell:/home/sameep/Extra_Projects/DM/HW3/task1.ipynb#W3sZmlsZQ%3D%3D?line=87'>88</a>\u001b[0m clusters \u001b[39m=\u001b[39m [[] \u001b[39mfor\u001b[39;00m _ \u001b[39min\u001b[39;00m \u001b[39mrange\u001b[39m(\u001b[39mself\u001b[39m\u001b[39m.\u001b[39mk)]\n\u001b[0;32m---> <a href='vscode-notebook-cell:/home/sameep/Extra_Projects/DM/HW3/task1.ipynb#W3sZmlsZQ%3D%3D?line=88'>89</a>\u001b[0m \u001b[39mfor\u001b[39;00m row \u001b[39min\u001b[39;00m X_train\u001b[39m.\u001b[39miterrows():\n\u001b[1;32m     <a href='vscode-notebook-cell:/home/sameep/Extra_Projects/DM/HW3/task1.ipynb#W3sZmlsZQ%3D%3D?line=89'>90</a>\u001b[0m     distance \u001b[39m=\u001b[39m \u001b[39mself\u001b[39m\u001b[39m.\u001b[39mdistance_function(np\u001b[39m.\u001b[39marray(row[\u001b[39m1\u001b[39m]), np\u001b[39m.\u001b[39marray(centroids))\n\u001b[1;32m     <a href='vscode-notebook-cell:/home/sameep/Extra_Projects/DM/HW3/task1.ipynb#W3sZmlsZQ%3D%3D?line=90'>91</a>\u001b[0m     cluster_number \u001b[39m=\u001b[39m np\u001b[39m.\u001b[39margmin(distance)\n",
      "File \u001b[0;32m~/Extra_Projects/DM/venv/lib/python3.8/site-packages/pandas/core/frame.py:1411\u001b[0m, in \u001b[0;36mDataFrame.iterrows\u001b[0;34m(self)\u001b[0m\n\u001b[1;32m   1409\u001b[0m klass \u001b[39m=\u001b[39m \u001b[39mself\u001b[39m\u001b[39m.\u001b[39m_constructor_sliced\n\u001b[1;32m   1410\u001b[0m \u001b[39mfor\u001b[39;00m k, v \u001b[39min\u001b[39;00m \u001b[39mzip\u001b[39m(\u001b[39mself\u001b[39m\u001b[39m.\u001b[39mindex, \u001b[39mself\u001b[39m\u001b[39m.\u001b[39mvalues):\n\u001b[0;32m-> 1411\u001b[0m     s \u001b[39m=\u001b[39m klass(v, index\u001b[39m=\u001b[39;49mcolumns, name\u001b[39m=\u001b[39;49mk)\u001b[39m.\u001b[39m__finalize__(\u001b[39mself\u001b[39m)\n\u001b[1;32m   1412\u001b[0m     \u001b[39myield\u001b[39;00m k, s\n",
      "File \u001b[0;32m~/Extra_Projects/DM/venv/lib/python3.8/site-packages/pandas/core/series.py:470\u001b[0m, in \u001b[0;36mSeries.__init__\u001b[0;34m(self, data, index, dtype, name, copy, fastpath)\u001b[0m\n\u001b[1;32m    468\u001b[0m         data \u001b[39m=\u001b[39m data\u001b[39m.\u001b[39mcopy()\n\u001b[1;32m    469\u001b[0m \u001b[39melse\u001b[39;00m:\n\u001b[0;32m--> 470\u001b[0m     data \u001b[39m=\u001b[39m sanitize_array(data, index, dtype, copy)\n\u001b[1;32m    472\u001b[0m     manager \u001b[39m=\u001b[39m get_option(\u001b[39m\"\u001b[39m\u001b[39mmode.data_manager\u001b[39m\u001b[39m\"\u001b[39m)\n\u001b[1;32m    473\u001b[0m     \u001b[39mif\u001b[39;00m manager \u001b[39m==\u001b[39m \u001b[39m\"\u001b[39m\u001b[39mblock\u001b[39m\u001b[39m\"\u001b[39m:\n",
      "File \u001b[0;32m~/Extra_Projects/DM/venv/lib/python3.8/site-packages/pandas/core/construction.py:597\u001b[0m, in \u001b[0;36msanitize_array\u001b[0;34m(data, index, dtype, copy, raise_cast_failure, allow_2d)\u001b[0m\n\u001b[1;32m    594\u001b[0m             subarr \u001b[39m=\u001b[39m np\u001b[39m.\u001b[39marray(data, copy\u001b[39m=\u001b[39mcopy)\n\u001b[1;32m    595\u001b[0m     \u001b[39melse\u001b[39;00m:\n\u001b[1;32m    596\u001b[0m         \u001b[39m# we will try to copy by-definition here\u001b[39;00m\n\u001b[0;32m--> 597\u001b[0m         subarr \u001b[39m=\u001b[39m _try_cast(data, dtype, copy, raise_cast_failure)\n\u001b[1;32m    599\u001b[0m \u001b[39melif\u001b[39;00m \u001b[39misinstance\u001b[39m(data, ABCExtensionArray):\n\u001b[1;32m    600\u001b[0m     \u001b[39m# it is already ensured above this is not a PandasArray\u001b[39;00m\n\u001b[1;32m    601\u001b[0m     subarr \u001b[39m=\u001b[39m data\n",
      "File \u001b[0;32m~/Extra_Projects/DM/venv/lib/python3.8/site-packages/pandas/core/construction.py:770\u001b[0m, in \u001b[0;36m_try_cast\u001b[0;34m(arr, dtype, copy, raise_cast_failure)\u001b[0m\n\u001b[1;32m    750\u001b[0m \u001b[39m\u001b[39m\u001b[39m\"\"\"\u001b[39;00m\n\u001b[1;32m    751\u001b[0m \u001b[39mConvert input to numpy ndarray and optionally cast to a given dtype.\u001b[39;00m\n\u001b[1;32m    752\u001b[0m \n\u001b[0;32m   (...)\u001b[0m\n\u001b[1;32m    766\u001b[0m \u001b[39mnp.ndarray or ExtensionArray\u001b[39;00m\n\u001b[1;32m    767\u001b[0m \u001b[39m\"\"\"\u001b[39;00m\n\u001b[1;32m    768\u001b[0m is_ndarray \u001b[39m=\u001b[39m \u001b[39misinstance\u001b[39m(arr, np\u001b[39m.\u001b[39mndarray)\n\u001b[0;32m--> 770\u001b[0m \u001b[39mif\u001b[39;00m dtype \u001b[39mis\u001b[39;49;00m \u001b[39mNone\u001b[39;49;00m:\n\u001b[1;32m    771\u001b[0m     \u001b[39m# perf shortcut as this is the most common case\u001b[39;00m\n\u001b[1;32m    772\u001b[0m     \u001b[39mif\u001b[39;00m is_ndarray:\n\u001b[1;32m    773\u001b[0m         arr \u001b[39m=\u001b[39m cast(np\u001b[39m.\u001b[39mndarray, arr)\n",
      "\u001b[0;31mKeyboardInterrupt\u001b[0m: "
     ]
    }
   ],
   "source": [
    "# Cosine Similarity, with evaluation_criteria = 'sse'\n",
    "kmeans_cosine = KMeans(k = 10, distance = 'cosine', max_iter = 10, evaluation_criteria = 'sse')\n",
    "\n",
    "# Fit model\n",
    "kmeans_cosine.fit(data)\n",
    "\n",
    "# Compute sse\n",
    "sse_cosine = kmeans_cosine.evaluate(data, labels)\n",
    "\n",
    "# Display results\n",
    "print(\"Normalized Sum of Squares for Euclidean Distance:\", sse_cosine / data.shape[0])"
   ]
  },
  {
   "cell_type": "code",
   "execution_count": 9,
   "metadata": {},
   "outputs": [
    {
     "name": "stdout",
     "output_type": "stream",
     "text": [
      "Iteration Number:  0\n",
      "Iteration Number:  1\n",
      "Iteration Number:  2\n",
      "Iteration Number:  3\n",
      "Iteration Number:  4\n",
      "Iteration Number:  5\n",
      "Iteration Number:  6\n",
      "Iteration Number:  7\n",
      "Iteration Number:  8\n",
      "Iteration Number:  9\n",
      "Normalized Sum of Squares for Jaccard Distance: 2574885.1229187064\n"
     ]
    }
   ],
   "source": [
    "# Jaccard distance, with evaluation_criteria as \"sse\"\n",
    "kmeans_jaccard = KMeans(k = 10, distance = 'jaccard', max_iter = 10, evaluation_criteria = 'sse')\n",
    "\n",
    "# Fit model\n",
    "kmeans_jaccard.fit(data)\n",
    "\n",
    "# Compute sse\n",
    "sse_jaccard = kmeans_jaccard.evaluate(data, labels)\n",
    "\n",
    "# Display results\n",
    "print(\"Normalized Sum of Squares for Jaccard Distance:\", sse_jaccard / data.shape[0])"
   ]
  },
  {
   "cell_type": "code",
   "execution_count": 10,
   "metadata": {},
   "outputs": [
    {
     "name": "stdout",
     "output_type": "stream",
     "text": [
      "Iteration Number:  0\n",
      "Iteration Number:  1\n",
      "Iteration Number:  2\n",
      "Iteration Number:  3\n",
      "Iteration Number:  4\n",
      "Iteration Number:  5\n",
      "Iteration Number:  6\n",
      "Iteration Number:  7\n",
      "Iteration Number:  8\n",
      "Iteration Number:  9\n",
      "Normalized Sum of Squares for Euclidean Distance: 2550361.8446529703\n"
     ]
    }
   ],
   "source": [
    "# Euclidean distance, with evaluation_criteria as \"sse\"\n",
    "kmeans_euclid = KMeans(k = 10, distance = 'euclidean', max_iter = 10, evaluation_criteria = 'sse')\n",
    "\n",
    "# Fit model\n",
    "kmeans_euclid.fit(data)\n",
    "\n",
    "# Compute sse\n",
    "sse_euclid = kmeans_euclid.evaluate(data, labels)\n",
    "\n",
    "# Display results\n",
    "print(\"Normalized Sum of Squares for Euclidean Distance:\", sse_euclid / data.shape[0])"
   ]
  },
  {
   "cell_type": "code",
   "execution_count": 17,
   "metadata": {},
   "outputs": [
    {
     "name": "stdout",
     "output_type": "stream",
     "text": [
      "Iteration Number:  0\n",
      "Iteration Number:  1\n",
      "Iteration Number:  2\n",
      "Iteration Number:  3\n",
      "Iteration Number:  4\n",
      "Iteration Number:  5\n",
      "Iteration Number:  6\n",
      "Iteration Number:  7\n",
      "Iteration Number:  8\n",
      "Iteration Number:  9\n",
      "Accuracy for Euclidean Distance: 0.01\n"
     ]
    }
   ],
   "source": [
    "# Euclidean Distance, with evaluation_criteria = 'accuracy'\n",
    "kmeans_euclid_acc = KMeans(k = 10, distance = 'euclidean', max_iter = 10, evaluation_criteria = 'accuracy')\n",
    "\n",
    "# Fit Model\n",
    "kmeans_euclid_acc.fit(data)\n",
    "\n",
    "# Compute accuracy\n",
    "accuracy = kmeans_euclid_acc.evaluate(data, labels)\n",
    "\n",
    "# Display results\n",
    "print('Accuracy for Euclidean Distance:', accuracy)"
   ]
  },
  {
   "cell_type": "code",
   "execution_count": 18,
   "metadata": {},
   "outputs": [
    {
     "name": "stdout",
     "output_type": "stream",
     "text": [
      "Iteration Number:  0\n",
      "Iteration Number:  1\n",
      "Iteration Number:  2\n",
      "Iteration Number:  3\n",
      "Iteration Number:  4\n",
      "Iteration Number:  5\n",
      "Iteration Number:  6\n",
      "Iteration Number:  7\n",
      "Iteration Number:  8\n",
      "Iteration Number:  9\n",
      "Accuracy for Cosine Similarity: 0.0\n"
     ]
    }
   ],
   "source": [
    "# Cosine Distance, with evaluation_criteria = 'accuracy'\n",
    "kmeans_cosine_acc = KMeans(k = 10, distance = 'cosine', max_iter = 10, evaluation_criteria = 'accuracy')\n",
    "\n",
    "# Fit Model\n",
    "kmeans_cosine_acc.fit(data)\n",
    "\n",
    "# Compute accuracy\n",
    "accuracy = kmeans_cosine_acc.evaluate(data, labels)\n",
    "\n",
    "# Display results\n",
    "print('Accuracy for Cosine Similarity:', accuracy)"
   ]
  },
  {
   "cell_type": "code",
   "execution_count": 19,
   "metadata": {},
   "outputs": [
    {
     "name": "stdout",
     "output_type": "stream",
     "text": [
      "Iteration Number:  0\n",
      "Iteration Number:  1\n",
      "Iteration Number:  2\n",
      "Iteration Number:  3\n",
      "Iteration Number:  4\n",
      "Iteration Number:  5\n",
      "Iteration Number:  6\n",
      "Iteration Number:  7\n",
      "Iteration Number:  8\n",
      "Iteration Number:  9\n",
      "Accuracy for Jaccard Similarity: 0.01\n"
     ]
    }
   ],
   "source": [
    "# Jaccard Distance, with evaluation_criteria = 'accuracy'\n",
    "kmeans_jaccard_acc = KMeans(k = 10, distance = 'jaccard', max_iter = 10, evaluation_criteria = 'accuracy')\n",
    "\n",
    "# Fit Model\n",
    "kmeans_jaccard_acc.fit(data)\n",
    "\n",
    "# Compute accuracy\n",
    "accuracy = kmeans_jaccard_acc.evaluate(data, labels)\n",
    "\n",
    "# Display results\n",
    "print('Accuracy for Jaccard Similarity:', accuracy)"
   ]
  },
  {
   "cell_type": "code",
   "execution_count": null,
   "metadata": {},
   "outputs": [],
   "source": []
  }
 ],
 "metadata": {
  "kernelspec": {
   "display_name": "venv",
   "language": "python",
   "name": "python3"
  },
  "language_info": {
   "codemirror_mode": {
    "name": "ipython",
    "version": 3
   },
   "file_extension": ".py",
   "mimetype": "text/x-python",
   "name": "python",
   "nbconvert_exporter": "python",
   "pygments_lexer": "ipython3",
   "version": "3.8.10"
  }
 },
 "nbformat": 4,
 "nbformat_minor": 2
}
