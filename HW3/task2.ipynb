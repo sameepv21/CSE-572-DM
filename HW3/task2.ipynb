{
 "cells": [
  {
   "cell_type": "code",
   "execution_count": 1,
   "metadata": {},
   "outputs": [],
   "source": [
    "# Import required libraries\n",
    "import numpy as np\n",
    "import pandas as pd\n",
    "from tqdm import tqdm\n",
    "from surprise import Dataset, SVD\n",
    "from surprise.prediction_algorithms import KNNBasic\n",
    "from surprise.model_selection import cross_validate\n",
    "from surprise.reader import Reader\n",
    "import warnings\n",
    "warnings.filterwarnings('ignore')"
   ]
  },
  {
   "cell_type": "code",
   "execution_count": 2,
   "metadata": {},
   "outputs": [
    {
     "name": "stdout",
     "output_type": "stream",
     "text": [
      "Number of records: (100004, 4)\n"
     ]
    },
    {
     "data": {
      "text/html": [
       "<div>\n",
       "<style scoped>\n",
       "    .dataframe tbody tr th:only-of-type {\n",
       "        vertical-align: middle;\n",
       "    }\n",
       "\n",
       "    .dataframe tbody tr th {\n",
       "        vertical-align: top;\n",
       "    }\n",
       "\n",
       "    .dataframe thead th {\n",
       "        text-align: right;\n",
       "    }\n",
       "</style>\n",
       "<table border=\"1\" class=\"dataframe\">\n",
       "  <thead>\n",
       "    <tr style=\"text-align: right;\">\n",
       "      <th></th>\n",
       "      <th>userId</th>\n",
       "      <th>movieId</th>\n",
       "      <th>rating</th>\n",
       "      <th>timestamp</th>\n",
       "    </tr>\n",
       "  </thead>\n",
       "  <tbody>\n",
       "    <tr>\n",
       "      <th>0</th>\n",
       "      <td>1</td>\n",
       "      <td>31</td>\n",
       "      <td>2.5</td>\n",
       "      <td>1260759144</td>\n",
       "    </tr>\n",
       "    <tr>\n",
       "      <th>1</th>\n",
       "      <td>1</td>\n",
       "      <td>1029</td>\n",
       "      <td>3.0</td>\n",
       "      <td>1260759179</td>\n",
       "    </tr>\n",
       "    <tr>\n",
       "      <th>2</th>\n",
       "      <td>1</td>\n",
       "      <td>1061</td>\n",
       "      <td>3.0</td>\n",
       "      <td>1260759182</td>\n",
       "    </tr>\n",
       "    <tr>\n",
       "      <th>3</th>\n",
       "      <td>1</td>\n",
       "      <td>1129</td>\n",
       "      <td>2.0</td>\n",
       "      <td>1260759185</td>\n",
       "    </tr>\n",
       "    <tr>\n",
       "      <th>4</th>\n",
       "      <td>1</td>\n",
       "      <td>1172</td>\n",
       "      <td>4.0</td>\n",
       "      <td>1260759205</td>\n",
       "    </tr>\n",
       "  </tbody>\n",
       "</table>\n",
       "</div>"
      ],
      "text/plain": [
       "   userId  movieId  rating   timestamp\n",
       "0       1       31     2.5  1260759144\n",
       "1       1     1029     3.0  1260759179\n",
       "2       1     1061     3.0  1260759182\n",
       "3       1     1129     2.0  1260759185\n",
       "4       1     1172     4.0  1260759205"
      ]
     },
     "execution_count": 2,
     "metadata": {},
     "output_type": "execute_result"
    }
   ],
   "source": [
    "# Read csv\n",
    "ratings = pd.read_csv(\"../data/movies/ratings_small.csv\")\n",
    "print(\"Number of records:\", ratings.shape)\n",
    "ratings.head()"
   ]
  },
  {
   "cell_type": "code",
   "execution_count": 3,
   "metadata": {},
   "outputs": [],
   "source": [
    "# Reader object for surprise\n",
    "reader = Reader(rating_scale = (1, 5))\n",
    "data = Dataset.load_from_df(ratings[['userId', 'movieId', 'rating']], reader)"
   ]
  },
  {
   "cell_type": "code",
   "execution_count": 4,
   "metadata": {},
   "outputs": [
    {
     "name": "stdout",
     "output_type": "stream",
     "text": [
      "Test RMSE for PMF: 0.8971645376887551\n",
      "Test MAE for PMF: 0.6906904651027698\n"
     ]
    }
   ],
   "source": [
    "# Compute results for PMF (or equivalently SVD)\n",
    "pmf_results = cross_validate(SVD(), data, measures = ['RMSE', 'MAE'], cv = 5, verbose = False)\n",
    "\n",
    "# Compute and store mean of test rmse and mae\n",
    "pmf_test_rmse = pmf_results['test_rmse'].mean()\n",
    "pmf_test_mae = pmf_results['test_mae'].mean()\n",
    "\n",
    "# Display results\n",
    "print(\"Test RMSE for PMF:\", pmf_test_rmse)\n",
    "print(\"Test MAE for PMF:\", pmf_test_mae)"
   ]
  },
  {
   "cell_type": "code",
   "execution_count": 5,
   "metadata": {},
   "outputs": [
    {
     "name": "stdout",
     "output_type": "stream",
     "text": [
      "Computing the cosine similarity matrix...\n",
      "Done computing similarity matrix.\n",
      "Computing the cosine similarity matrix...\n",
      "Done computing similarity matrix.\n",
      "Computing the cosine similarity matrix...\n",
      "Done computing similarity matrix.\n",
      "Computing the cosine similarity matrix...\n",
      "Done computing similarity matrix.\n",
      "Computing the cosine similarity matrix...\n",
      "Done computing similarity matrix.\n",
      "Test RMSE for User Based Collaborative Filtering: 0.9929204474162363\n",
      "Test MAE for User Based Collaborative Filtering: 0.766993666636894\n"
     ]
    }
   ],
   "source": [
    "# Initialize the model (user based collaborative filtering (ubcf))\n",
    "ubcf = KNNBasic(sim_options = {'name': 'cosine',\n",
    "                             'user_based': True,\n",
    "                             'min_support': True,\n",
    "                             'min_k': 2})\n",
    "\n",
    "# Compute results for user based collaborative filtering\n",
    "ubcf_results = cross_validate(ubcf, data, measures = ['RMSE', 'MAE'], cv = 5, verbose = False)\n",
    "\n",
    "# Compute and store mean of test rmse and mae\n",
    "ubcf_rmse = ubcf_results['test_rmse'].mean()\n",
    "ubcf_mae = ubcf_results['test_mae'].mean()\n",
    "\n",
    "# Display results\n",
    "print(\"Test RMSE for User Based Collaborative Filtering:\", ubcf_rmse)\n",
    "print(\"Test MAE for User Based Collaborative Filtering:\", ubcf_mae)"
   ]
  },
  {
   "cell_type": "code",
   "execution_count": 6,
   "metadata": {},
   "outputs": [
    {
     "name": "stdout",
     "output_type": "stream",
     "text": [
      "Computing the cosine similarity matrix...\n",
      "Done computing similarity matrix.\n",
      "Computing the cosine similarity matrix...\n",
      "Done computing similarity matrix.\n",
      "Computing the cosine similarity matrix...\n",
      "Done computing similarity matrix.\n",
      "Computing the cosine similarity matrix...\n",
      "Done computing similarity matrix.\n",
      "Computing the cosine similarity matrix...\n",
      "Done computing similarity matrix.\n",
      "Test RMSE for User Based Collaborative Filtering: 0.9932244481930528\n",
      "Test MAE for User Based Collaborative Filtering: 0.7674259819742985\n"
     ]
    }
   ],
   "source": [
    "# Initialize the model (item based collaborative filtering (ibcf))\n",
    "ibcf = KNNBasic(sim_options = {'name': 'cosine',\n",
    "                               'item_based': True,\n",
    "                               'min_support': True,\n",
    "                               'min_k': 2})\n",
    "\n",
    "# Compute results for item based collaborative filtering\n",
    "ibcf_results = cross_validate(ibcf, data, measures = ['RMSE', 'MAE'], cv = 5, verbose = False)\n",
    "\n",
    "# Compute and store mean of test rmse and mae\n",
    "ibcf_rmse = ibcf_results['test_rmse'].mean()\n",
    "ibcf_mae = ibcf_results['test_mae'].mean()\n",
    "\n",
    "# Display results\n",
    "print(\"Test RMSE for User Based Collaborative Filtering:\", ibcf_rmse)\n",
    "print(\"Test MAE for User Based Collaborative Filtering:\", ibcf_mae)"
   ]
  }
 ],
 "metadata": {
  "kernelspec": {
   "display_name": "venv",
   "language": "python",
   "name": "python3"
  },
  "language_info": {
   "codemirror_mode": {
    "name": "ipython",
    "version": 3
   },
   "file_extension": ".py",
   "mimetype": "text/x-python",
   "name": "python",
   "nbconvert_exporter": "python",
   "pygments_lexer": "ipython3",
   "version": "3.8.10"
  }
 },
 "nbformat": 4,
 "nbformat_minor": 2
}
